{
 "cells": [
  {
   "cell_type": "code",
   "execution_count": 5,
   "metadata": {},
   "outputs": [
    {
     "name": "stdout",
     "output_type": "stream",
     "text": [
      "200000\n",
      "120000\n"
     ]
    }
   ],
   "source": [
    "def get_expected_cost(beds, baths, has_basement):\n",
    "\n",
    "\n",
    "  base_cost = 80000\n",
    "  bedroom_cost = 30000\n",
    "  bathroom_cost = 10000\n",
    "  basement_cost = 40000\n",
    "\n",
    "  expected_cost = base_cost + beds * bedroom_cost + baths * bathroom_cost + has_basement * basement_cost\n",
    "\n",
    "  return expected_cost\n",
    "\n",
    "print(get_expected_cost(2, 2, True))\n",
    "print(get_expected_cost(1, 1, False)) \n"
   ]
  },
  {
   "cell_type": "code",
   "execution_count": null,
   "metadata": {},
   "outputs": [],
   "source": []
  }
 ],
 "metadata": {
  "kernelspec": {
   "display_name": "base",
   "language": "python",
   "name": "python3"
  },
  "language_info": {
   "codemirror_mode": {
    "name": "ipython",
    "version": 3
   },
   "file_extension": ".py",
   "mimetype": "text/x-python",
   "name": "python",
   "nbconvert_exporter": "python",
   "pygments_lexer": "ipython3",
   "version": "3.9.13"
  }
 },
 "nbformat": 4,
 "nbformat_minor": 2
}
