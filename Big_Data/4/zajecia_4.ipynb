{
 "cells": [
  {
   "cell_type": "code",
   "execution_count": 1,
   "metadata": {},
   "outputs": [],
   "source": [
    "class Shape:\n",
    "    def __init__(self, color):\n",
    "        self.color = color\n",
    "    \n",
    "    def get_color(self):\n",
    "        return self.color\n",
    "\n",
    "class Circle(Shape):\n",
    "    def __init__(self, color, radius):\n",
    "        super().__init__(color)\n",
    "        self.radius = radius\n",
    "    \n",
    "    def get_area(self):\n",
    "        return 3.14 * self.radius ** 2\n",
    "\n",
    "class Rectangle(Shape):\n",
    "    def __init__(self, color, width, height):\n",
    "        super().__init__(color)\n",
    "        self.width = width\n",
    "        self.height = height\n",
    "    \n",
    "    def get_area(self):\n",
    "        return self.width * self.height"
   ]
  },
  {
   "cell_type": "code",
   "execution_count": 2,
   "metadata": {},
   "outputs": [
    {
     "name": "stdout",
     "output_type": "stream",
     "text": [
      "Kolor koła: czerwony\n",
      "Pole powierzchni koła: 78.5\n",
      "Kolor prostokąta: niebieski\n",
      "Pole powierzchni prostokąta: 24\n"
     ]
    }
   ],
   "source": [
    "circle = Circle(\"czerwony\", 5)\n",
    "print(f\"Kolor koła: {circle.get_color()}\")\n",
    "print(f\"Pole powierzchni koła: {circle.get_area()}\")\n",
    "\n",
    "rectangle = Rectangle(\"niebieski\", 4, 6)\n",
    "print(f\"Kolor prostokąta: {rectangle.get_color()}\")\n",
    "print(f\"Pole powierzchni prostokąta: {rectangle.get_area()}\")"
   ]
  }
 ],
 "metadata": {
  "kernelspec": {
   "display_name": "base",
   "language": "python",
   "name": "python3"
  },
  "language_info": {
   "codemirror_mode": {
    "name": "ipython",
    "version": 3
   },
   "file_extension": ".py",
   "mimetype": "text/x-python",
   "name": "python",
   "nbconvert_exporter": "python",
   "pygments_lexer": "ipython3",
   "version": "3.9.13"
  }
 },
 "nbformat": 4,
 "nbformat_minor": 2
}
