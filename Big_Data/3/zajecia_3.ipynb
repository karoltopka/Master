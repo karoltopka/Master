{
 "cells": [
  {
   "cell_type": "markdown",
   "metadata": {},
   "source": [
    "# Ex1"
   ]
  },
  {
   "cell_type": "code",
   "execution_count": 2,
   "metadata": {},
   "outputs": [],
   "source": [
    "class BankAccount:\n",
    "    def __init__(self, account_number, balance, customer_name):\n",
    "        self.account_number = account_number\n",
    "        self.balance = balance\n",
    "        self.customer_name = customer_name\n",
    "\n",
    "    def deposit(self, amount):\n",
    "        if amount > 0:\n",
    "            self.balance += amount\n",
    "            return f\"Amount {amount} deposited. New balance is {self.balance}.\"\n",
    "        else:\n",
    "            return \"Deposit amount must be positive.\"\n",
    "\n",
    "    def withdraw(self, amount):\n",
    "        if amount > 0 and amount <= self.balance:\n",
    "            self.balance -= amount\n",
    "            return f\"Amount {amount} withdrawn. New balance is {self.balance}.\"\n",
    "        elif amount > self.balance:\n",
    "            return \"Insufficient funds.\"\n",
    "        else:\n",
    "            return \"Withdrawal amount must be positive.\"\n"
   ]
  },
  {
   "cell_type": "code",
   "execution_count": 3,
   "metadata": {},
   "outputs": [
    {
     "name": "stdout",
     "output_type": "stream",
     "text": [
      "Amount 500 deposited. New balance is 1500.\n",
      "Amount 200 withdrawn. New balance is 1300.\n",
      "Insufficient funds.\n",
      "Deposit amount must be positive.\n"
     ]
    }
   ],
   "source": [
    "\n",
    "account = BankAccount(\"123456789\", 1000, \"John Doe\")\n",
    "\n",
    "print(account.deposit(500)) \n",
    "\n",
    "print(account.withdraw(200)) \n",
    "\n",
    "print(account.withdraw(2000))\n",
    "\n",
    "print(account.deposit(-100))\n"
   ]
  },
  {
   "cell_type": "markdown",
   "metadata": {},
   "source": [
    "# Ex2"
   ]
  },
  {
   "cell_type": "code",
   "execution_count": 5,
   "metadata": {},
   "outputs": [],
   "source": [
    "class Wheel:\n",
    "    def __init__(self, diameter):\n",
    "        self.diameter = diameter\n",
    "        self.radius = diameter / 2\n",
    "\n",
    "    def calculate_area(self):\n",
    "        return 3.14159 * self.radius ** 2\n",
    "\n",
    "wheels_areas = {f\"Wheel with radius {i}\": Wheel(i*2).calculate_area() for i in range(1, 10)}\n"
   ]
  },
  {
   "cell_type": "code",
   "execution_count": 6,
   "metadata": {},
   "outputs": [
    {
     "name": "stdout",
     "output_type": "stream",
     "text": [
      "Wheel with radius 1 - Area: 3.14159\n",
      "Wheel with radius 2 - Area: 12.56636\n",
      "Wheel with radius 3 - Area: 28.27431\n",
      "Wheel with radius 4 - Area: 50.26544\n",
      "Wheel with radius 5 - Area: 78.53975\n",
      "Wheel with radius 6 - Area: 113.09724\n",
      "Wheel with radius 7 - Area: 153.93791\n",
      "Wheel with radius 8 - Area: 201.06176\n",
      "Wheel with radius 9 - Area: 254.46878999999998\n"
     ]
    }
   ],
   "source": [
    "for radius, area in wheels_areas.items():\n",
    "    print(f\"{radius} - Area: {area}\")\n"
   ]
  },
  {
   "cell_type": "markdown",
   "metadata": {},
   "source": [
    "# Ex3"
   ]
  },
  {
   "cell_type": "code",
   "execution_count": 7,
   "metadata": {},
   "outputs": [
    {
     "name": "stdout",
     "output_type": "stream",
     "text": [
      "Alice walked 17 meters. Total walked distance: 17 meters.\n",
      "Bob walked 96 meters. Total walked distance: 96 meters.\n",
      "Alice walked 49 meters. Total walked distance: 66 meters.\n",
      "Bob walked 71 meters. Total walked distance: 167 meters.\n",
      "Alice walked 17 meters. Total walked distance: 83 meters.\n",
      "Bob walked 34 meters. Total walked distance: 201 meters.\n",
      "Alice walked 24 meters. Total walked distance: 107 meters.\n",
      "Bob walked 58 meters. Total walked distance: 259 meters.\n",
      "Alice walked 86 meters. Total walked distance: 193 meters.\n",
      "Bob walked 4 meters. Total walked distance: 263 meters.\n"
     ]
    }
   ],
   "source": [
    "import random\n",
    "\n",
    "class User:\n",
    "    def __init__(self, name):\n",
    "        self.name = name\n",
    "        self.total_walked_distance = 0\n",
    "\n",
    "    def walk(self, n):\n",
    "        distance = random.randint(1, n)\n",
    "        self.total_walked_distance += distance\n",
    "        print(f\"{self.name} walked {distance} meters. Total walked distance: {self.total_walked_distance} meters.\")\n",
    "\n",
    "user1 = User(\"Alice\")\n",
    "user2 = User(\"Bob\")\n",
    "\n",
    "for _ in range(5):\n",
    "    user1.walk(100)\n",
    "    user2.walk(100)\n",
    "\n",
    "# Determine who walked the greatest distance\n",
    "winner = user1 if user1.total_walked_distance > user2.total_walked_distance else user2\n",
    "winner_name, winner_distance = winner.name, winner.total_walked_distance\n"
   ]
  },
  {
   "cell_type": "code",
   "execution_count": 8,
   "metadata": {},
   "outputs": [
    {
     "name": "stdout",
     "output_type": "stream",
     "text": [
      "Alice walked 61 meters. Total walked distance: 254 meters.\n",
      "Bob walked 57 meters. Total walked distance: 320 meters.\n",
      "Alice walked 58 meters. Total walked distance: 312 meters.\n",
      "Bob walked 93 meters. Total walked distance: 413 meters.\n",
      "Alice walked 47 meters. Total walked distance: 359 meters.\n",
      "Bob walked 57 meters. Total walked distance: 470 meters.\n",
      "Alice walked 46 meters. Total walked distance: 405 meters.\n",
      "Bob walked 69 meters. Total walked distance: 539 meters.\n",
      "Alice walked 92 meters. Total walked distance: 497 meters.\n",
      "Bob walked 96 meters. Total walked distance: 635 meters.\n",
      "Bob walked the greatest distance: 263 meters.\n"
     ]
    }
   ],
   "source": [
    "for _ in range(5):\n",
    "    user1.walk(100)\n",
    "    user2.walk(100)\n",
    "\n",
    "print(f\"{winner_name} walked the greatest distance: {winner_distance} meters.\")\n"
   ]
  }
 ],
 "metadata": {
  "kernelspec": {
   "display_name": "base",
   "language": "python",
   "name": "python3"
  },
  "language_info": {
   "codemirror_mode": {
    "name": "ipython",
    "version": 3
   },
   "file_extension": ".py",
   "mimetype": "text/x-python",
   "name": "python",
   "nbconvert_exporter": "python",
   "pygments_lexer": "ipython3",
   "version": "3.9.13"
  }
 },
 "nbformat": 4,
 "nbformat_minor": 2
}
