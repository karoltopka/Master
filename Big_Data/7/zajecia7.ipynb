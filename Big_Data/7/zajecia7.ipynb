{
 "cells": [
  {
   "cell_type": "code",
   "execution_count": 1,
   "metadata": {},
   "outputs": [],
   "source": [
    "from mrjob.job import MRJob\n",
    "from mrjob.step import MRStep\n",
    "import csv\n"
   ]
  },
  {
   "cell_type": "code",
   "execution_count": 21,
   "metadata": {},
   "outputs": [
    {
     "name": "stdout",
     "output_type": "stream",
     "text": [
      "Overwriting flight_preprocess.py\n"
     ]
    }
   ],
   "source": [
    "%%file flight_preprocess.py\n",
    "\n",
    "from mrjob.job import MRJob\n",
    "from mrjob.step import MRStep\n",
    "import csv\n",
    "\n",
    "class MRProcess(MRJob):\n",
    "    def mapper(self, _, line):\n",
    "\n",
    "        (year, month, day, day_of_week, airline, flight_number, tail_number,\n",
    "        origin_airport, destination_airport, scheduled_departure, departure_time,\n",
    "        departure_delay, taxi_out, wheels_off, scheduled_time, elapsed_time, air_time,\n",
    "        distance, wheels_on, taxi_in, scheduled_arrival, arrival_time, arrival_delay,\n",
    "        diverted, cancelled, cancellation_reason, air_system_delay, security_delay,\n",
    "        airline_delay, late_aircraft_delay, weather_delay) = line.split(',')\n",
    "        yield \"items\", (year, month, day)\n",
    "if __name__ == \"__main__\":\n",
    "    MRProcess.run()\n"
   ]
  },
  {
   "cell_type": "code",
   "execution_count": 29,
   "metadata": {},
   "outputs": [
    {
     "name": "stdout",
     "output_type": "stream",
     "text": [
      "Overwriting flight_preprocess.py\n"
     ]
    }
   ],
   "source": [
    "%%file flight_preprocess.py\n",
    "\n",
    "from mrjob.job import MRJob\n",
    "import csv\n",
    "\n",
    "class MRAverageDistance(MRJob):\n",
    "\n",
    "    def mapper(self, _, line):\n",
    "        # Use CSV reader to correctly handle commas inside quotations\n",
    "        reader = csv.reader([line])\n",
    "        for row in reader:\n",
    "            try:\n",
    "                distance = float(row[17]) \n",
    "                yield \"average_distance\", distance\n",
    "            except ValueError:\n",
    "                # Skip the header or lines with missing data\n",
    "                continue\n",
    "\n",
    "    def reducer(self, key, values):\n",
    "        total_distance = 0\n",
    "        count = 0\n",
    "        for value in values:\n",
    "            total_distance += value\n",
    "            count += 1\n",
    "        if count > 0:\n",
    "            average_distance = total_distance / count\n",
    "            yield key, average_distance\n",
    "\n",
    "if __name__ == '__main__':\n",
    "    MRAverageDistance.run()\n"
   ]
  },
  {
   "cell_type": "code",
   "execution_count": 31,
   "metadata": {},
   "outputs": [
    {
     "name": "stdout",
     "output_type": "stream",
     "text": [
      "Overwriting flight_preprocess.py\n"
     ]
    }
   ],
   "source": [
    "%%file flight_preprocess.py\n",
    "from mrjob.job import MRJob\n",
    "import csv\n",
    "\n",
    "class MRAverageDistance(MRJob):\n",
    "\n",
    "    def mapper(self, _, line):\n",
    "        reader = csv.reader([line])\n",
    "        for row in reader:\n",
    "            if row[17].isdigit():\n",
    "                distance = float(row[17]) \n",
    "                yield \"average_distance\", distance\n",
    "\n",
    "    def reducer(self, key, values):\n",
    "        total_distance = 0\n",
    "        count = 0\n",
    "        for value in values:\n",
    "            total_distance += value\n",
    "            count += 1\n",
    "        if count > 0:\n",
    "            average_distance = total_distance / count\n",
    "            yield key, average_distance\n",
    "\n",
    "if __name__ == '__main__':\n",
    "    MRAverageDistance.run()\n"
   ]
  },
  {
   "cell_type": "code",
   "execution_count": 33,
   "metadata": {},
   "outputs": [
    {
     "name": "stdout",
     "output_type": "stream",
     "text": [
      "Writing flight_distance_average.py\n"
     ]
    }
   ],
   "source": [
    "%%file flight_distance_average.py\n",
    "\n",
    "from mrjob.job import MRJob\n",
    "from mrjob.step import MRStep\n",
    "import csv\n",
    "\n",
    "class MRAverageDistance(MRJob):\n",
    "\n",
    "    def mapper(self, _, line):\n",
    "        # Using tuple unpacking to extract each field from the line\n",
    "        (year, month, day, day_of_week, airline, flight_number, tail_number,\n",
    "         origin_airport, destination_airport, scheduled_departure, departure_time,\n",
    "         departure_delay, taxi_out, wheels_off, scheduled_time, elapsed_time, air_time,\n",
    "         distance, wheels_on, taxi_in, scheduled_arrival, arrival_time, arrival_delay,\n",
    "         diverted, cancelled, cancellation_reason, air_system_delay, security_delay,\n",
    "         airline_delay, late_aircraft_delay, weather_delay) = line.split(',')\n",
    "\n",
    "        # Convert distance to float and yield\n",
    "        try:\n",
    "            distance = float(distance)\n",
    "            yield \"average_distance\", distance\n",
    "        except ValueError:\n",
    "            # Skip lines where distance cannot be converted to float (unexpectedly malformed data)\n",
    "            pass\n",
    "\n",
    "    def reducer(self, key, values):\n",
    "        total_distance = 0\n",
    "        count = 0\n",
    "        for value in values:\n",
    "            total_distance += value\n",
    "            count += 1\n",
    "        if count > 0:\n",
    "            average_distance = total_distance / count\n",
    "            yield key, average_distance\n",
    "\n",
    "if __name__ == '__main__':\n",
    "    MRAverageDistance.run()\n"
   ]
  },
  {
   "cell_type": "code",
   "execution_count": 37,
   "metadata": {},
   "outputs": [
    {
     "name": "stdout",
     "output_type": "stream",
     "text": [
      "Overwriting flight_airline_distance_average.py\n"
     ]
    }
   ],
   "source": [
    "%%file flight_airline_distance_average.py\n",
    "\n",
    "from mrjob.job import MRJob\n",
    "import csv\n",
    "\n",
    "class MRAirlineDistanceAverage(MRJob):\n",
    "\n",
    "    def mapper(self, _, line):\n",
    "        # Using tuple unpacking to extract each field from the line\n",
    "        (year, month, day, day_of_week, airline, flight_number, tail_number,\n",
    "         origin_airport, destination_airport, scheduled_departure, departure_time,\n",
    "         departure_delay, taxi_out, wheels_off, scheduled_time, elapsed_time, air_time,\n",
    "         distance, wheels_on, taxi_in, scheduled_arrival, arrival_time, arrival_delay,\n",
    "         diverted, cancelled, cancellation_reason, air_system_delay, security_delay,\n",
    "         airline_delay, late_aircraft_delay, weather_delay) = line.split(',')\n",
    "\n",
    "        # Convert distance to float and yield with airline as key\n",
    "        try:\n",
    "            distance = float(distance)\n",
    "            yield airline, distance\n",
    "        except ValueError:\n",
    "            # Skip lines where distance cannot be converted to float\n",
    "            pass\n",
    "\n",
    "    def reducer(self, key, values):\n",
    "        total_distance = 0\n",
    "        count = 0\n",
    "        for value in values:\n",
    "            total_distance += value\n",
    "            count += 1\n",
    "        if count > 0:\n",
    "            average_distance = total_distance / count\n",
    "            yield key, average_distance\n",
    "\n",
    "if __name__ == '__main__':\n",
    "    MRAirlineDistanceAverage.run()\n"
   ]
  },
  {
   "cell_type": "code",
   "execution_count": 39,
   "metadata": {},
   "outputs": [
    {
     "name": "stdout",
     "output_type": "stream",
     "text": [
      "No configs found; falling back on auto-configuration\n",
      "No configs specified for inline runner\n",
      "Creating temp directory /var/folders/b5/vt5tbdrd3vsb9sjq0cdwyc900000gn/T/flight_airline_distance_average.Karez.20240423.084837.965803\n",
      "Running step 1 of 1...\n",
      "job output is in /var/folders/b5/vt5tbdrd3vsb9sjq0cdwyc900000gn/T/flight_airline_distance_average.Karez.20240423.084837.965803/output\n",
      "Streaming final output from /var/folders/b5/vt5tbdrd3vsb9sjq0cdwyc900000gn/T/flight_airline_distance_average.Karez.20240423.084837.965803/output...\n",
      "\"NK\"\t985.2671176275143\n",
      "\"OO\"\t496.7721639899856\n",
      "\"DL\"\t853.6218253392869\n",
      "\"EV\"\t462.25173914335716\n",
      "\"F9\"\t967.2148597472368\n",
      "\"HA\"\t632.5918423536816\n",
      "\"MQ\"\t422.31540701621003\n",
      "\"AS\"\t1197.4180824363411\n",
      "\"B6\"\t1062.1751782451095\n",
      "\"UA\"\t1271.5456844081027\n",
      "\"US\"\t911.5038623153763\n",
      "\"VX\"\t1405.9893220037802\n",
      "\"WN\"\t740.7113345035682\n",
      "\"AA\"\t1041.3392223520077\n",
      "Removing temp directory /var/folders/b5/vt5tbdrd3vsb9sjq0cdwyc900000gn/T/flight_airline_distance_average.Karez.20240423.084837.965803...\n"
     ]
    }
   ],
   "source": [
    "!python flight_airline_distance_average.py flights.csv"
   ]
  },
  {
   "cell_type": "code",
   "execution_count": null,
   "metadata": {},
   "outputs": [],
   "source": [
    "%%file flight_preprocess.py\n",
    "\n",
    "from mrjob.job import MRJob\n",
    "from mrjob.step import MRStep\n",
    "import csv\n",
    "\n",
    "class MRProcess(MRJob):\n",
    "    def mapper(self, _, line):\n",
    "\n",
    "        (year, month, day, day_of_week, airline, flight_number, tail_number,\n",
    "        origin_airport, destination_airport, scheduled_departure, departure_time,\n",
    "        departure_delay, taxi_out, wheels_off, scheduled_time, elapsed_time, air_time,\n",
    "        distance, wheels_on, taxi_in, scheduled_arrival, arrival_time, arrival_delay,\n",
    "        diverted, cancelled, cancellation_reason, air_system_delay, security_delay,\n",
    "        airline_delay, late_aircraft_delay, weather_delay) = line.split(',')\n",
    "        yield \"items\", (year, month, day)\n",
    "if __name__ == \"__main__\":\n",
    "    MRProcess.run()\n"
   ]
  },
  {
   "cell_type": "code",
   "execution_count": 3,
   "metadata": {},
   "outputs": [],
   "source": [
    "distance, animal = '10', 'cat'"
   ]
  },
  {
   "cell_type": "code",
   "execution_count": 4,
   "metadata": {},
   "outputs": [
    {
     "data": {
      "text/plain": [
       "'10'"
      ]
     },
     "execution_count": 4,
     "metadata": {},
     "output_type": "execute_result"
    }
   ],
   "source": [
    "distance"
   ]
  },
  {
   "cell_type": "code",
   "execution_count": 6,
   "metadata": {},
   "outputs": [],
   "source": [
    "line = \"10, cat\""
   ]
  },
  {
   "cell_type": "code",
   "execution_count": 12,
   "metadata": {},
   "outputs": [],
   "source": [
    "distance1 , animal1 = line.split(',')"
   ]
  },
  {
   "cell_type": "code",
   "execution_count": 11,
   "metadata": {},
   "outputs": [
    {
     "data": {
      "text/plain": [
       "'10'"
      ]
     },
     "execution_count": 11,
     "metadata": {},
     "output_type": "execute_result"
    }
   ],
   "source": [
    "distance1"
   ]
  }
 ],
 "metadata": {
  "kernelspec": {
   "display_name": "base",
   "language": "python",
   "name": "python3"
  },
  "language_info": {
   "codemirror_mode": {
    "name": "ipython",
    "version": 3
   },
   "file_extension": ".py",
   "mimetype": "text/x-python",
   "name": "python",
   "nbconvert_exporter": "python",
   "pygments_lexer": "ipython3",
   "version": "3.9.13"
  }
 },
 "nbformat": 4,
 "nbformat_minor": 2
}
