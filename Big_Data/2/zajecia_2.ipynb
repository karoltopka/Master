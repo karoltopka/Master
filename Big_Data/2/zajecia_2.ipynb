{
 "cells": [
  {
   "cell_type": "code",
   "execution_count": 6,
   "metadata": {},
   "outputs": [],
   "source": [
    "def rectangle_area(length, width):\n",
    "\n",
    "    if length <= 0 or width <= 0:\n",
    "        raise ValueError(\"Length and width must be positive numbers.\")\n",
    "    return float(length * width)\n"
   ]
  },
  {
   "cell_type": "code",
   "execution_count": 7,
   "metadata": {},
   "outputs": [
    {
     "name": "stdout",
     "output_type": "stream",
     "text": [
      "15.0\n"
     ]
    }
   ],
   "source": [
    "result = rectangle_area(5, 3) \n",
    "print(result) \n"
   ]
  },
  {
   "cell_type": "code",
   "execution_count": 8,
   "metadata": {},
   "outputs": [
    {
     "name": "stdout",
     "output_type": "stream",
     "text": [
      "False\n",
      "True\n",
      "False\n",
      "True\n"
     ]
    }
   ],
   "source": [
    "def is_odd(num):\n",
    "\n",
    "    return num % 2 != 0\n",
    "\n",
    "print(is_odd(2)) \n",
    "print(is_odd(3))  \n",
    "print(is_odd(8))  \n",
    "print(is_odd(9))  \n"
   ]
  },
  {
   "cell_type": "markdown",
   "metadata": {},
   "source": [
    "Write a function that takes a person\n",
    "name and surname in\n",
    "a single string \"Michał Kakapus\"\n",
    "and counts the number of letters in them\n",
    "DO NOT use .split() method,\n",
    "use only loops and if statements"
   ]
  },
  {
   "cell_type": "code",
   "execution_count": 22,
   "metadata": {},
   "outputs": [
    {
     "name": "stdout",
     "output_type": "stream",
     "text": [
      "The number of letters in 'Michał               Kalapus' is 13.\n"
     ]
    }
   ],
   "source": [
    "def count_letters(name):\n",
    "\n",
    "    letter_count = 0\n",
    "    for char in name:\n",
    "        if char.isalpha():\n",
    "            letter_count += 1\n",
    "    return letter_count\n",
    "\n",
    "# Example usage\n",
    "name = \"Michał               Kalapus\"\n",
    "letter_count = count_letters(name)\n",
    "print(f\"The number of letters in '{name}' is {letter_count}.\")\n"
   ]
  },
  {
   "cell_type": "code",
   "execution_count": 20,
   "metadata": {},
   "outputs": [
    {
     "name": "stdout",
     "output_type": "stream",
     "text": [
      "The number of letters in 'Michał Kalapus' (excluding spaces) is 13.\n"
     ]
    }
   ],
   "source": [
    "def count_letters_no_space(name):\n",
    "  letter_count = 0\n",
    "  for char in name:\n",
    "    if char.isalpha(): \n",
    "      letter_count += 1\n",
    "    elif char == \" \": \n",
    "      pass              \n",
    "  return letter_count\n",
    "\n",
    "\n",
    "name = \"Michał Kalapus\"\n",
    "letter_count = count_letters_no_space(name)\n",
    "print(f\"The number of letters in '{name}' (excluding spaces) is {letter_count}.\") \n"
   ]
  }
 ],
 "metadata": {
  "kernelspec": {
   "display_name": "base",
   "language": "python",
   "name": "python3"
  },
  "language_info": {
   "codemirror_mode": {
    "name": "ipython",
    "version": 3
   },
   "file_extension": ".py",
   "mimetype": "text/x-python",
   "name": "python",
   "nbconvert_exporter": "python",
   "pygments_lexer": "ipython3",
   "version": "3.9.13"
  }
 },
 "nbformat": 4,
 "nbformat_minor": 2
}
